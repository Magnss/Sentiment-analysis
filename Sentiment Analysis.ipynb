{
  "cells": [
    {
      "cell_type": "code",
      "execution_count": 1,
      "metadata": {
        "id": "2HZ56235TxA6"
      },
      "outputs": [
        {
          "data": {
            "text/html": [
              "<div>\n",
              "<style scoped>\n",
              "    .dataframe tbody tr th:only-of-type {\n",
              "        vertical-align: middle;\n",
              "    }\n",
              "\n",
              "    .dataframe tbody tr th {\n",
              "        vertical-align: top;\n",
              "    }\n",
              "\n",
              "    .dataframe thead th {\n",
              "        text-align: right;\n",
              "    }\n",
              "</style>\n",
              "<table border=\"1\" class=\"dataframe\">\n",
              "  <thead>\n",
              "    <tr style=\"text-align: right;\">\n",
              "      <th></th>\n",
              "      <th>Review</th>\n",
              "      <th>Sentiment</th>\n",
              "    </tr>\n",
              "  </thead>\n",
              "  <tbody>\n",
              "    <tr>\n",
              "      <th>0</th>\n",
              "      <td>plot : two teen couples go to a church party ,...</td>\n",
              "      <td>negative</td>\n",
              "    </tr>\n",
              "    <tr>\n",
              "      <th>1</th>\n",
              "      <td>the happy bastard's quick movie review \\ndamn ...</td>\n",
              "      <td>negative</td>\n",
              "    </tr>\n",
              "    <tr>\n",
              "      <th>2</th>\n",
              "      <td>it is movies like these that make a jaded movi...</td>\n",
              "      <td>negative</td>\n",
              "    </tr>\n",
              "    <tr>\n",
              "      <th>3</th>\n",
              "      <td>\" quest for camelot \" is warner bros . ' firs...</td>\n",
              "      <td>negative</td>\n",
              "    </tr>\n",
              "    <tr>\n",
              "      <th>4</th>\n",
              "      <td>synopsis : a mentally unstable man undergoing ...</td>\n",
              "      <td>negative</td>\n",
              "    </tr>\n",
              "    <tr>\n",
              "      <th>...</th>\n",
              "      <td>...</td>\n",
              "      <td>...</td>\n",
              "    </tr>\n",
              "    <tr>\n",
              "      <th>2055</th>\n",
              "      <td>Christopher Nolan deserves every superlative f...</td>\n",
              "      <td>Positive</td>\n",
              "    </tr>\n",
              "    <tr>\n",
              "      <th>2056</th>\n",
              "      <td>Nolan isn't interested in scaling down or tidy...</td>\n",
              "      <td>Positive</td>\n",
              "    </tr>\n",
              "    <tr>\n",
              "      <th>2057</th>\n",
              "      <td>With its everyone-and-the-kitchen-sink casting...</td>\n",
              "      <td>Positive</td>\n",
              "    </tr>\n",
              "    <tr>\n",
              "      <th>2058</th>\n",
              "      <td>At three hours, it is too long -- as, sigh, al...</td>\n",
              "      <td>Positive</td>\n",
              "    </tr>\n",
              "    <tr>\n",
              "      <th>2059</th>\n",
              "      <td>Though they may seem disparate, the many eleme...</td>\n",
              "      <td>Positive</td>\n",
              "    </tr>\n",
              "  </tbody>\n",
              "</table>\n",
              "<p>2060 rows × 2 columns</p>\n",
              "</div>"
            ],
            "text/plain": [
              "                                                 Review Sentiment\n",
              "0     plot : two teen couples go to a church party ,...  negative\n",
              "1     the happy bastard's quick movie review \\ndamn ...  negative\n",
              "2     it is movies like these that make a jaded movi...  negative\n",
              "3      \" quest for camelot \" is warner bros . ' firs...  negative\n",
              "4     synopsis : a mentally unstable man undergoing ...  negative\n",
              "...                                                 ...       ...\n",
              "2055  Christopher Nolan deserves every superlative f...  Positive\n",
              "2056  Nolan isn't interested in scaling down or tidy...  Positive\n",
              "2057  With its everyone-and-the-kitchen-sink casting...  Positive\n",
              "2058  At three hours, it is too long -- as, sigh, al...  Positive\n",
              "2059  Though they may seem disparate, the many eleme...  Positive\n",
              "\n",
              "[2060 rows x 2 columns]"
            ]
          },
          "execution_count": 1,
          "metadata": {},
          "output_type": "execute_result"
        }
      ],
      "source": [
        "\n",
        "import os\n",
        "import pandas as pd\n",
        "import numpy as np\n",
        "import matplotlib.pyplot as plt\n",
        "\n",
        "def load_reviews(folder_path, sentiment):\n",
        "    reviews = []\n",
        "    for filename in os.listdir(folder_path):\n",
        "        with open(os.path.join(folder_path, filename)) as file:\n",
        "            review = file.read()\n",
        "            reviews.append([review, sentiment])\n",
        "    return reviews\n",
        "\n",
        "\n",
        "postive = load_reviews('./data/pos/', 'Positive')\n",
        "negative = load_reviews('./data/neg/', 'negative')\n",
        "\n",
        "df_pos = pd.DataFrame(postive, columns=['Review', 'Sentiment'])\n",
        "df_neg = pd.DataFrame(negative, columns=['Review', 'Sentiment'])\n",
        "\n",
        "df = pd.concat([df_neg,df_pos], ignore_index=True)\n",
        "df"
      ]
    },
    {
      "cell_type": "code",
      "execution_count": 2,
      "metadata": {
        "colab": {
          "base_uri": "https://localhost:8080/"
        },
        "id": "sVqNGaDmTw55",
        "outputId": "49329a86-874b-4020-ee65-add20acf9bbf"
      },
      "outputs": [
        {
          "name": "stdout",
          "output_type": "stream",
          "text": [
            "1030\n",
            "1030\n",
            "['films adapted from comic books have had plenty of success , whether they\\'re about superheroes ( batman , superman , spawn ) , or geared toward kids ( casper ) or the arthouse crowd ( ghost world ) , but there\\'s never really been a comic book like from hell before . \\nfor starters , it was created by alan moore ( and eddie campbell ) , who brought the medium to a whole new level in the mid \\'80s with a 12-part series called the watchmen . \\nto say moore and campbell thoroughly researched the subject of jack the ripper would be like saying michael jackson is starting to look a little odd . \\nthe book ( or \" graphic novel , \" if you will ) is over 500 pages long and includes nearly 30 more that consist of nothing but footnotes . \\nin other words , don\\'t dismiss this film because of its source . \\nif you can get past the whole comic book thing , you might find another stumbling block in from hell\\'s directors , albert and allen hughes . \\ngetting the hughes brothers to direct this seems almost as ludicrous as casting carrot top in , well , anything , but riddle me this : who better to direct a film that\\'s set in the ghetto and features really violent street crime than the mad geniuses behind menace ii society ? \\nthe ghetto in question is , of course , whitechapel in 1888 london\\'s east end . \\nit\\'s a filthy , sooty place where the whores ( called \" unfortunates \" ) are starting to get a little nervous about this mysterious psychopath who has been carving through their profession with surgical precision . \\nwhen the first stiff turns up , copper peter godley ( robbie coltrane , the world is not enough ) calls in inspector frederick abberline ( johnny depp , blow ) to crack the case . \\nabberline , a widower , has prophetic dreams he unsuccessfully tries to quell with copious amounts of absinthe and opium . \\nupon arriving in whitechapel , he befriends an unfortunate named mary kelly ( heather graham , say it isn\\'t so ) and proceeds to investigate the horribly gruesome crimes that even the police surgeon can\\'t stomach . \\ni don\\'t think anyone needs to be briefed on jack the ripper , so i won\\'t go into the particulars here , other than to say moore and campbell have a unique and interesting theory about both the identity of the killer and the reasons he chooses to slay . \\nin the comic , they don\\'t bother cloaking the identity of the ripper , but screenwriters terry hayes ( vertical limit ) and rafael yglesias ( les mis ? rables ) do a good job of keeping him hidden from viewers until the very end . \\nit\\'s funny to watch the locals blindly point the finger of blame at jews and indians because , after all , an englishman could never be capable of committing such ghastly acts . \\nand from hell\\'s ending had me whistling the stonecutters song from the simpsons for days ( \" who holds back the electric car/who made steve guttenberg a star ? \" ) . \\ndon\\'t worry - it\\'ll all make sense when you see it . \\nnow onto from hell\\'s appearance : it\\'s certainly dark and bleak enough , and it\\'s surprising to see how much more it looks like a tim burton film than planet of the apes did ( at times , it seems like sleepy hollow 2 ) . \\nthe print i saw wasn\\'t completely finished ( both color and music had not been finalized , so no comments about marilyn manson ) , but cinematographer peter deming ( don\\'t say a word ) ably captures the dreariness of victorian-era london and helped make the flashy killing scenes remind me of the crazy flashbacks in twin peaks , even though the violence in the film pales in comparison to that in the black-and-white comic . \\noscar winner martin childs\\' ( shakespeare in love ) production design turns the original prague surroundings into one creepy place . \\neven the acting in from hell is solid , with the dreamy depp turning in a typically strong performance and deftly handling a british accent . \\nians holm ( joe gould\\'s secret ) and richardson ( 102 dalmatians ) log in great supporting roles , but the big surprise here is graham . \\ni cringed the first time she opened her mouth , imagining her attempt at an irish accent , but it actually wasn\\'t half bad . \\nthe film , however , is all good . \\n2 : 00 - r for strong violence/gore , sexuality , language and drug content \\n', 'Positive']\n",
            "['plot : two teen couples go to a church party , drink and then drive . \\nthey get into an accident . \\none of the guys dies , but his girlfriend continues to see him in her life , and has nightmares . \\nwhat\\'s the deal ? \\nwatch the movie and \" sorta \" find out . . . \\ncritique : a mind-fuck movie for the teen generation that touches on a very cool idea , but presents it in a very bad package . \\nwhich is what makes this review an even harder one to write , since i generally applaud films which attempt to break the mold , mess with your head and such ( lost highway & memento ) , but there are good and bad ways of making all types of films , and these folks just didn\\'t snag this one correctly . \\nthey seem to have taken this pretty neat concept , but executed it terribly . \\nso what are the problems with the movie ? \\nwell , its main problem is that it\\'s simply too jumbled . \\nit starts off \" normal \" but then downshifts into this \" fantasy \" world in which you , as an audience member , have no idea what\\'s going on . \\nthere are dreams , there are characters coming back from the dead , there are others who look like the dead , there are strange apparitions , there are disappearances , there are a looooot of chase scenes , there are tons of weird things that happen , and most of it is simply not explained . \\nnow i personally don\\'t mind trying to unravel a film every now and then , but when all it does is give me the same clue over and over again , i get kind of fed up after a while , which is this film\\'s biggest problem . \\nit\\'s obviously got this big secret to hide , but it seems to want to hide it completely until its final five minutes . \\nand do they make things entertaining , thrilling or even engaging , in the meantime ? \\nnot really . \\nthe sad part is that the arrow and i both dig on flicks like this , so we actually figured most of it out by the half-way point , so all of the strangeness after that did start to make a little bit of sense , but it still didn\\'t the make the film all that more entertaining . \\ni guess the bottom line with movies like this is that you should always make sure that the audience is \" into it \" even before they are given the secret password to enter your world of understanding . \\ni mean , showing melissa sagemiller running away from visions for about 20 minutes throughout the movie is just plain lazy ! ! \\nokay , we get it . . . there \\nare people chasing her and we don\\'t know who they are . \\ndo we really need to see it over and over again ? \\nhow about giving us different scenes offering further insight into all of the strangeness going down in the movie ? \\napparently , the studio took this film away from its director and chopped it up themselves , and it shows . \\nthere might\\'ve been a pretty decent teen mind-fuck movie in here somewhere , but i guess \" the suits \" decided that turning it into a music video with little edge , would make more sense . \\nthe actors are pretty good for the most part , although wes bentley just seemed to be playing the exact same character that he did in american beauty , only in a new neighborhood . \\nbut my biggest kudos go out to sagemiller , who holds her own throughout the entire film , and actually has you feeling her character\\'s unraveling . \\noverall , the film doesn\\'t stick because it doesn\\'t entertain , it\\'s confusing , it rarely excites and it feels pretty redundant for most of its runtime , despite a pretty cool ending and explanation to all of the craziness that came before it . \\noh , and by the way , this is not a horror or teen slasher flick . . . it\\'s \\njust packaged to look that way because someone is apparently assuming that the genre is still hot with the kids . \\nit also wrapped production two years ago and has been sitting on the shelves ever since . \\nwhatever . . . skip \\nit ! \\nwhere\\'s joblo coming from ? \\na nightmare of elm street 3 ( 7/10 ) - blair witch 2 ( 7/10 ) - the crow ( 9/10 ) - the crow : salvation ( 4/10 ) - lost highway ( 10/10 ) - memento ( 10/10 ) - the others ( 9/10 ) - stir of echoes ( 8/10 ) \\n', 'negative']\n"
          ]
        }
      ],
      "source": [
        "\n",
        "print(len(postive))\n",
        "print(len(negative))\n",
        "\n",
        "print(postive[0])\n",
        "print(negative[0])"
      ]
    },
    {
      "cell_type": "code",
      "execution_count": null,
      "metadata": {
        "colab": {
          "base_uri": "https://localhost:8080/"
        },
        "id": "x42w62DY-FFQ",
        "outputId": "73a330f8-2e96-4e50-b3d5-33fbae897ac5"
      },
      "outputs": [],
      "source": [
        "\n",
        "\n",
        "import nltk\n",
        "nltk.download('punkt')\n",
        "nltk.download('wordnet')\n",
        "nltk.download('stopwords')"
      ]
    },
    {
      "cell_type": "code",
      "execution_count": null,
      "metadata": {},
      "outputs": [],
      "source": [
        "\n",
        "print(df['Review'].str.len().hist())\n",
        "\n",
        "from wordcloud import WordCloud\n",
        "stopwords = set(nltk.corpus.stopwords.words('english'))\n",
        "\n",
        "def show_wordcloud(data):\n",
        "    wordcloud = WordCloud(\n",
        "        background_color='white',\n",
        "        stopwords=stopwords,\n",
        "        max_words=100,\n",
        "        max_font_size=40,\n",
        "        scale=100,\n",
        "        random_state=1)\n",
        "\n",
        "    wordcloud=wordcloud.generate(str(data))\n",
        "\n",
        "    fig = plt.figure(2, figsize=(20, 20))\n",
        "    plt.axis('off')\n",
        "\n",
        "    plt.imshow(wordcloud)\n",
        "    plt.show()\n",
        "\n",
        "show_wordcloud(postive)\n",
        "show_wordcloud(negative)\n",
        "\n"
      ]
    },
    {
      "cell_type": "code",
      "execution_count": null,
      "metadata": {
        "colab": {
          "base_uri": "https://localhost:8080/"
        },
        "id": "glUoHkEC_0wG",
        "outputId": "154f739c-00dc-414b-94b2-54c6a09da961"
      },
      "outputs": [],
      "source": [
        "stop = nltk.corpus.stopwords.words('english')\n",
        "new = ['www','.com','http']\n",
        "stop = stop + new\n",
        "stop"
      ]
    },
    {
      "cell_type": "code",
      "execution_count": 6,
      "metadata": {
        "id": "H2pKCj4h_5Ax"
      },
      "outputs": [
        {
          "data": {
            "text/html": [
              "<div>\n",
              "<style scoped>\n",
              "    .dataframe tbody tr th:only-of-type {\n",
              "        vertical-align: middle;\n",
              "    }\n",
              "\n",
              "    .dataframe tbody tr th {\n",
              "        vertical-align: top;\n",
              "    }\n",
              "\n",
              "    .dataframe thead th {\n",
              "        text-align: right;\n",
              "    }\n",
              "</style>\n",
              "<table border=\"1\" class=\"dataframe\">\n",
              "  <thead>\n",
              "    <tr style=\"text-align: right;\">\n",
              "      <th></th>\n",
              "      <th>Review</th>\n",
              "      <th>Sentiment</th>\n",
              "    </tr>\n",
              "  </thead>\n",
              "  <tbody>\n",
              "    <tr>\n",
              "      <th>0</th>\n",
              "      <td>plot two teen couple go church party drink dri...</td>\n",
              "      <td>negative</td>\n",
              "    </tr>\n",
              "    <tr>\n",
              "      <th>1</th>\n",
              "      <td>happy bastard quick movie review damn yk bug g...</td>\n",
              "      <td>negative</td>\n",
              "    </tr>\n",
              "    <tr>\n",
              "      <th>2</th>\n",
              "      <td>movie like make jaded movie viewer thankful in...</td>\n",
              "      <td>negative</td>\n",
              "    </tr>\n",
              "    <tr>\n",
              "      <th>3</th>\n",
              "      <td>quest camelot warner bros first featurelength ...</td>\n",
              "      <td>negative</td>\n",
              "    </tr>\n",
              "    <tr>\n",
              "      <th>4</th>\n",
              "      <td>synopsis mentally unstable man undergoing psyc...</td>\n",
              "      <td>negative</td>\n",
              "    </tr>\n",
              "    <tr>\n",
              "      <th>...</th>\n",
              "      <td>...</td>\n",
              "      <td>...</td>\n",
              "    </tr>\n",
              "    <tr>\n",
              "      <th>2055</th>\n",
              "      <td>Christopher Nolan deserves every superlative t...</td>\n",
              "      <td>Positive</td>\n",
              "    </tr>\n",
              "    <tr>\n",
              "      <th>2056</th>\n",
              "      <td>Nolan isnt interested scaling tidying Heck one...</td>\n",
              "      <td>Positive</td>\n",
              "    </tr>\n",
              "    <tr>\n",
              "      <th>2057</th>\n",
              "      <td>everyoneandthekitchensink casting alternating ...</td>\n",
              "      <td>Positive</td>\n",
              "    </tr>\n",
              "    <tr>\n",
              "      <th>2058</th>\n",
              "      <td>three hour long sigh film day compared dimensi...</td>\n",
              "      <td>Positive</td>\n",
              "    </tr>\n",
              "    <tr>\n",
              "      <th>2059</th>\n",
              "      <td>Though may seem disparate many element Oppenhe...</td>\n",
              "      <td>Positive</td>\n",
              "    </tr>\n",
              "  </tbody>\n",
              "</table>\n",
              "<p>2060 rows × 2 columns</p>\n",
              "</div>"
            ],
            "text/plain": [
              "                                                 Review Sentiment\n",
              "0     plot two teen couple go church party drink dri...  negative\n",
              "1     happy bastard quick movie review damn yk bug g...  negative\n",
              "2     movie like make jaded movie viewer thankful in...  negative\n",
              "3     quest camelot warner bros first featurelength ...  negative\n",
              "4     synopsis mentally unstable man undergoing psyc...  negative\n",
              "...                                                 ...       ...\n",
              "2055  Christopher Nolan deserves every superlative t...  Positive\n",
              "2056  Nolan isnt interested scaling tidying Heck one...  Positive\n",
              "2057  everyoneandthekitchensink casting alternating ...  Positive\n",
              "2058  three hour long sigh film day compared dimensi...  Positive\n",
              "2059  Though may seem disparate many element Oppenhe...  Positive\n",
              "\n",
              "[2060 rows x 2 columns]"
            ]
          },
          "execution_count": 6,
          "metadata": {},
          "output_type": "execute_result"
        }
      ],
      "source": [
        "import string\n",
        "import re\n",
        "from nltk.tokenize import word_tokenize\n",
        "from nltk.stem import WordNetLemmatizer\n",
        "\n",
        "def tokenize(text):\n",
        "  nltk_stopwords = stop\n",
        "  output_text = word_tokenize(text)\n",
        "  output_text = [word for word in output_text if word.lower() not in nltk_stopwords]\n",
        "  output_text = ' '.join(output_text)\n",
        "  return output_text\n",
        "\n",
        "def remove_punctuation(text):\n",
        "  output = str(text).lower()\n",
        "  output = str(text).translate(str.maketrans('','',string.punctuation))\n",
        "  output = re.sub(r'\\d+','',output)\n",
        "  output = output.strip()\n",
        "  output = ' '.join(output.split())\n",
        "\n",
        "  return output\n",
        "\n",
        "def lemmatize(sentence):\n",
        "    lemmatizer = WordNetLemmatizer()\n",
        "    words = word_tokenize(sentence)\n",
        "    lemmatized_words = [lemmatizer.lemmatize(word) for word in words]\n",
        "    output_text = ' '.join(lemmatized_words)\n",
        "    return output_text\n",
        "\n",
        "\n",
        "df['Review'] = df['Review'].apply(remove_punctuation)\n",
        "df['Review'] = df['Review'].apply(tokenize)\n",
        "df['Review'] = df['Review'].apply(lemmatize)\n",
        "df"
      ]
    },
    {
      "cell_type": "code",
      "execution_count": 7,
      "metadata": {
        "colab": {
          "base_uri": "https://localhost:8080/"
        },
        "id": "Q_ZexM-eCcI8",
        "outputId": "d115d949-7474-4669-928c-7726b35bbbeb"
      },
      "outputs": [
        {
          "data": {
            "text/html": [
              "<div>\n",
              "<style scoped>\n",
              "    .dataframe tbody tr th:only-of-type {\n",
              "        vertical-align: middle;\n",
              "    }\n",
              "\n",
              "    .dataframe tbody tr th {\n",
              "        vertical-align: top;\n",
              "    }\n",
              "\n",
              "    .dataframe thead th {\n",
              "        text-align: right;\n",
              "    }\n",
              "</style>\n",
              "<table border=\"1\" class=\"dataframe\">\n",
              "  <thead>\n",
              "    <tr style=\"text-align: right;\">\n",
              "      <th></th>\n",
              "      <th>Review</th>\n",
              "      <th>Sentiment</th>\n",
              "    </tr>\n",
              "  </thead>\n",
              "  <tbody>\n",
              "    <tr>\n",
              "      <th>0</th>\n",
              "      <td>plot two teen couple go church party drink dri...</td>\n",
              "      <td>0</td>\n",
              "    </tr>\n",
              "    <tr>\n",
              "      <th>1</th>\n",
              "      <td>happy bastard quick movie review damn yk bug g...</td>\n",
              "      <td>0</td>\n",
              "    </tr>\n",
              "    <tr>\n",
              "      <th>2</th>\n",
              "      <td>movie like make jaded movie viewer thankful in...</td>\n",
              "      <td>0</td>\n",
              "    </tr>\n",
              "    <tr>\n",
              "      <th>3</th>\n",
              "      <td>quest camelot warner bros first featurelength ...</td>\n",
              "      <td>0</td>\n",
              "    </tr>\n",
              "    <tr>\n",
              "      <th>4</th>\n",
              "      <td>synopsis mentally unstable man undergoing psyc...</td>\n",
              "      <td>0</td>\n",
              "    </tr>\n",
              "    <tr>\n",
              "      <th>...</th>\n",
              "      <td>...</td>\n",
              "      <td>...</td>\n",
              "    </tr>\n",
              "    <tr>\n",
              "      <th>2055</th>\n",
              "      <td>Christopher Nolan deserves every superlative t...</td>\n",
              "      <td>1</td>\n",
              "    </tr>\n",
              "    <tr>\n",
              "      <th>2056</th>\n",
              "      <td>Nolan isnt interested scaling tidying Heck one...</td>\n",
              "      <td>1</td>\n",
              "    </tr>\n",
              "    <tr>\n",
              "      <th>2057</th>\n",
              "      <td>everyoneandthekitchensink casting alternating ...</td>\n",
              "      <td>1</td>\n",
              "    </tr>\n",
              "    <tr>\n",
              "      <th>2058</th>\n",
              "      <td>three hour long sigh film day compared dimensi...</td>\n",
              "      <td>1</td>\n",
              "    </tr>\n",
              "    <tr>\n",
              "      <th>2059</th>\n",
              "      <td>Though may seem disparate many element Oppenhe...</td>\n",
              "      <td>1</td>\n",
              "    </tr>\n",
              "  </tbody>\n",
              "</table>\n",
              "<p>2060 rows × 2 columns</p>\n",
              "</div>"
            ],
            "text/plain": [
              "                                                 Review Sentiment\n",
              "0     plot two teen couple go church party drink dri...         0\n",
              "1     happy bastard quick movie review damn yk bug g...         0\n",
              "2     movie like make jaded movie viewer thankful in...         0\n",
              "3     quest camelot warner bros first featurelength ...         0\n",
              "4     synopsis mentally unstable man undergoing psyc...         0\n",
              "...                                                 ...       ...\n",
              "2055  Christopher Nolan deserves every superlative t...         1\n",
              "2056  Nolan isnt interested scaling tidying Heck one...         1\n",
              "2057  everyoneandthekitchensink casting alternating ...         1\n",
              "2058  three hour long sigh film day compared dimensi...         1\n",
              "2059  Though may seem disparate many element Oppenhe...         1\n",
              "\n",
              "[2060 rows x 2 columns]"
            ]
          },
          "execution_count": 7,
          "metadata": {},
          "output_type": "execute_result"
        }
      ],
      "source": [
        "for index, sentiment in enumerate(df['Sentiment']):\n",
        "    if sentiment == 'Positive':\n",
        "        df.loc[index, 'Sentiment'] = 1\n",
        "    else:\n",
        "        df.loc[index, 'Sentiment'] = 0\n",
        "\n",
        "df"
      ]
    },
    {
      "cell_type": "code",
      "execution_count": null,
      "metadata": {
        "colab": {
          "base_uri": "https://localhost:8080/"
        },
        "id": "cjYc9xx4f03u",
        "outputId": "8c4132aa-e885-4e44-f257-4c9c9803b7ca"
      },
      "outputs": [],
      "source": [
        "from sklearn.feature_extraction.text import TfidfVectorizer\n",
        "from sklearn.model_selection import train_test_split\n",
        "\n",
        "vectorizer = TfidfVectorizer(max_features=5000)\n",
        "\n",
        "X = vectorizer.fit_transform(df['Review'])\n",
        "y = pd.get_dummies(df['Sentiment']).values\n",
        "\n",
        "X = X.toarray()\n",
        "\n",
        "\n",
        "X_train, X_test, y_train, y_test = train_test_split(X, y, test_size=0.2, random_state=42)\n",
        "        \n",
        "print(X_train)\n",
        "print(len(y_train))      \n",
        "print(X_test)      \n",
        "print(len(y_test)) \n",
        "print(y_train[:10]) \n",
        "print(y_test[:10]) "
      ]
    },
    {
      "cell_type": "code",
      "execution_count": 9,
      "metadata": {},
      "outputs": [
        {
          "data": {
            "text/plain": [
              "5000"
            ]
          },
          "execution_count": 9,
          "metadata": {},
          "output_type": "execute_result"
        }
      ],
      "source": [
        "len(X_train[0])"
      ]
    },
    {
      "cell_type": "code",
      "execution_count": 10,
      "metadata": {
        "colab": {
          "base_uri": "https://localhost:8080/"
        },
        "id": "2r3xB1YWf-jr",
        "outputId": "35604c1e-d41d-4129-e741-2805fb8b780e"
      },
      "outputs": [
        {
          "name": "stdout",
          "output_type": "stream",
          "text": [
            "(1648, 5000)\n",
            "(412, 5000)\n"
          ]
        }
      ],
      "source": [
        "print(X_train.shape)\n",
        "print(X_test.shape)"
      ]
    },
    {
      "cell_type": "code",
      "execution_count": null,
      "metadata": {
        "colab": {
          "base_uri": "https://localhost:8080/"
        },
        "id": "_D31Qv_ol4X7",
        "outputId": "fa9ff366-d952-4790-b338-60f77974a495"
      },
      "outputs": [],
      "source": [
        "from keras.models import Sequential\n",
        "from keras.layers import Dense\n",
        "num_epochs = 10\n",
        "\n",
        "model = Sequential()\n",
        "model.add(Dense(64,input_dim=X.shape[1],activation='relu'))\n",
        "\n",
        "model.add(Dense(2,activation='softmax'))\n",
        "\n",
        "model.summary()\n",
        "\n",
        "model.compile(optimizer='adam',loss='categorical_crossentropy',metrics=['accuracy'])\n",
        "\n",
        "history= model.fit(X_train,y_train,epochs=num_epochs, validation_data=(X_test,y_test))"
      ]
    },
    {
      "cell_type": "code",
      "execution_count": null,
      "metadata": {
        "colab": {
          "base_uri": "https://localhost:8080/",
          "height": 299
        },
        "id": "13D__vVeJRez",
        "outputId": "5a5cb25f-24a4-4622-e422-b7f28ab5e77d"
      },
      "outputs": [],
      "source": [
        "import matplotlib.pyplot as plt\n",
        "\n",
        "def plot_graphs(H, metric):\n",
        "  plt.style.use(\"ggplot\")\n",
        "  plt.figure()\n",
        "  plt.plot(np.arange(0, num_epochs), H.history[\"loss\"], label=\"train_loss\")\n",
        "  plt.plot(np.arange(0, num_epochs), H.history[\"val_loss\"], label=\"val_loss\")\n",
        "  plt.plot(np.arange(0, num_epochs), H.history[\"accuracy\"], label=\"train_acc\")\n",
        "  plt.plot(np.arange(0, num_epochs), H.history[\"val_accuracy\"], label=\"val_acc\")\n",
        "  plt.title(\"Training Loss and Accuracy\")\n",
        "  plt.xlabel(\"Epoch #\" )\n",
        "  plt.ylabel(\"Loss/Accuracy\" )\n",
        "  plt.legend()\n",
        "  plt.savefig(\"model history\")\n",
        "  plt.show( )\n",
        "plot_graphs(history,'acc')"
      ]
    },
    {
      "cell_type": "code",
      "execution_count": 13,
      "metadata": {
        "colab": {
          "base_uri": "https://localhost:8080/"
        },
        "id": "QcUgpqHgnVC_",
        "outputId": "b004fad4-8802-4fb2-96a4-a33af937ce1e"
      },
      "outputs": [
        {
          "name": "stdout",
          "output_type": "stream",
          "text": [
            "13/13 [==============================] - 0s 3ms/step\n",
            "\n",
            "Confusion matrix:\n",
            "[[179  34]\n",
            " [ 29 170]]\n",
            "              precision    recall  f1-score   support\n",
            "\n",
            "           0       0.86      0.84      0.85       213\n",
            "           1       0.83      0.85      0.84       199\n",
            "\n",
            "    accuracy                           0.85       412\n",
            "   macro avg       0.85      0.85      0.85       412\n",
            "weighted avg       0.85      0.85      0.85       412\n",
            "\n"
          ]
        }
      ],
      "source": [
        "from sklearn.metrics import confusion_matrix\n",
        "from sklearn.metrics import classification_report\n",
        " \n",
        "predicted = model.predict(X_test)\n",
        "predicted_label=[np.argmax(each) for each in np.array(predicted)]\n",
        "y_test_label=[np.argmax(each) for each in np.array(y_test)]\n",
        "print(\"\\nConfusion matrix:\")\n",
        "print(confusion_matrix(y_test_label, predicted_label))\n",
        "print(classification_report(y_test_label, predicted_label))"
      ]
    },
    {
      "cell_type": "code",
      "execution_count": 14,
      "metadata": {
        "id": "KKPf16ZYgsXf"
      },
      "outputs": [],
      "source": [
        "#use the following text for prediction\n",
        "neg_text=\"Just when you think you’ve seen the worst movie ever made,\\\n",
        "along comes this pile of toxic waste.\"\n",
        "\n",
        "pos_text='This is going to go down as one of 2022’s most entertaining motion pictures.'\n"
      ]
    },
    {
      "cell_type": "code",
      "execution_count": 15,
      "metadata": {
        "colab": {
          "base_uri": "https://localhost:8080/"
        },
        "id": "6NTrCyEKGtHB",
        "outputId": "0b46f892-cc28-4325-8e8f-61015d49de75"
      },
      "outputs": [],
      "source": [
        "def encode_sentence(input_text):\n",
        "    encoded_text = vectorizer.transform([input_text])\n",
        "    encoded_text = encoded_text.toarray()\n",
        "    return encoded_text\n",
        "\n",
        "\n",
        "def prediction(encoded_text):\n",
        "    predictions = model.predict(encoded_text)\n",
        "    predicted_class = np.argmax(predictions)\n",
        "    print(\"The predicted probability is:\", predictions)\n",
        "    print(\"The predicted class is:\", predicted_class)\n",
        "\n",
        "    if predicted_class == 0:\n",
        "        print(\"The provided text is classified as: Negative\")\n",
        "    else:\n",
        "        print(\"The provided text is classified as: Positive\")"
      ]
    },
    {
      "cell_type": "code",
      "execution_count": 16,
      "metadata": {},
      "outputs": [
        {
          "name": "stdout",
          "output_type": "stream",
          "text": [
            "1/1 [==============================] - 0s 16ms/step\n",
            "The predicted probability is: [[0.9926016  0.00739846]]\n",
            "The predicted class is: 0\n",
            "The provided text is classified as: Negative\n",
            "1/1 [==============================] - 0s 14ms/step\n",
            "The predicted probability is: [[0.36407286 0.63592714]]\n",
            "The predicted class is: 1\n",
            "The provided text is classified as: Positive\n"
          ]
        }
      ],
      "source": [
        "\n",
        "ped = encode_sentence(neg_text)\n",
        "prediction(ped)\n",
        "\n",
        "pred = encode_sentence(pos_text)\n",
        "prediction(pred)"
      ]
    },
    {
      "cell_type": "code",
      "execution_count": 17,
      "metadata": {
        "colab": {
          "base_uri": "https://localhost:8080/"
        },
        "id": "a9xc4odTQz42",
        "outputId": "055922c3-8e96-4558-da3b-9e2875c8d718"
      },
      "outputs": [
        {
          "name": "stdout",
          "output_type": "stream",
          "text": [
            "0.06274211398105577\n"
          ]
        }
      ],
      "source": [
        "from sklearn.metrics.pairwise import cosine_similarity\n",
        "\n",
        "neg_text=\"Just when you think you’ve seen the worst movie ever made,\\\n",
        "along comes this pile of toxic waste.\"\n",
        "\n",
        "pos_text='This is going to go down as one of 2022’s most entertaining motion pictures.'\n",
        "\n",
        "from sklearn.metrics.pairwise import cosine_similarity\n",
        "\n",
        "def get_cosine_similarity(text1, text2):\n",
        "    vectors = vectorizer.fit_transform([text1, text2])\n",
        "    similarity = cosine_similarity(vectors[0], vectors[1])\n",
        "    return similarity[0][0]\n",
        "\n",
        "\n",
        "cosine = get_cosine_similarity(neg_text, pos_text)\n",
        "print(cosine)\n"
      ]
    }
  ],
  "metadata": {
    "colab": {
      "collapsed_sections": [],
      "provenance": [],
      "toc_visible": true
    },
    "kernelspec": {
      "display_name": "Python 3 (ipykernel)",
      "language": "python",
      "name": "python3"
    },
    "language_info": {
      "codemirror_mode": {
        "name": "ipython",
        "version": 3
      },
      "file_extension": ".py",
      "mimetype": "text/x-python",
      "name": "python",
      "nbconvert_exporter": "python",
      "pygments_lexer": "ipython3",
      "version": "3.9.18"
    }
  },
  "nbformat": 4,
  "nbformat_minor": 0
}
